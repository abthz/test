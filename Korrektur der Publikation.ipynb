{
 "cells": [
  {
   "cell_type": "markdown",
   "metadata": {},
   "source": [
    "# Korrektur der Publikation"
   ]
  },
  {
   "cell_type": "markdown",
   "metadata": {},
   "source": [
    "## 1. Zitate"
   ]
  },
  {
   "cell_type": "markdown",
   "metadata": {},
   "source": [
    "1) \"Record mobilities that exceed $10\\,\\text{cm}^{2}/\\text{Vs}$ were measured in ﬁeld-eﬀect transistors (FETs) that comprise higly ordered molecular semiconductors [1],[2].\"\n",
    "\n",
    "- [1]: Passt.\n",
    "\n",
    "- [2]: Verweist lediglich auf [48] (Sundar2004) für Rubren-OFETs mit Beweglichkeit $>10\\,\\text{cm}^{2}/\\text{Vs}$. Sollte dann nicht lieber [48] (Sundar2004) angegeben werden?\n"
   ]
  },
  {
   "cell_type": "markdown",
   "metadata": {},
   "source": [
    "2) \"Despite its technological relevance, the physical reasons behind these low mobilities are not well understood [3].\"\n",
    "\n",
    "- [3]: Passt. Ist auch Source für \"i) the relative small bandwidth of organic materials compared to inorganic semiconductors\", oder? Muss die Referenz nicht dann dort hin?"
   ]
  },
  {
   "cell_type": "markdown",
   "metadata": {},
   "source": [
    "3) \"ii) enhanced scattering with random dipoles at the insulator/semiconductor interface [4],[5]\"\n",
    "\n",
    "- [4]: Ich denke das passt. Es wird zwar nicht explizit \"scattering with random dipoles\" gesagt, aber es ist von erhöhten Potentialbarrieren durch eine verbreiterte DOS durch ein polares Interface die Rede. Außerdem wird auf \"increased energetic disorder\", \"dependence of mobility on insulator permittivity\" und \"enhanced carrier localization\" eingegangen.\n",
    "    \n",
    "- [5]: Wenn [4] passt, dann passt auch [5], da hier gemessene Beweglichkeiten abhängig von der Permittivität mithilfe von [4] erklärt werden."
   ]
  },
  {
   "cell_type": "markdown",
   "metadata": {},
   "source": [
    "4) \"iii) that charge carriers may be bound as large polaron states to the lattice, which increases the eﬀective masses of charge carriers [6]\"\n",
    "\n",
    "- [6]: Ich denke das passt. [6] beschreibt ja den Effekt von Polaronen auf den Ladungstransport, aber spricht nicht von \"large polaron states\" und einer Erhöhung der effektiven Masse. Stattdessen wird immer vom \"small polaron model\" gesprochen, aber das \"large\" soll wahrscheinlich nicht das Gegenteil davon sein. Die Erhöhung der effektiven Masse ist ja offensichtlich und fester Bestandteil des Polaron-Phänomens"
   ]
  },
  {
   "cell_type": "markdown",
   "metadata": {},
   "source": [
    "5) \"iv) and their transient localization [7], [8].\"\n",
    "    \n",
    "- [7]: Hier wird u.a. die \"theory of charge transport by dynamic localization\", d.h. die Koexistenz von band states und localized states, besprochen. Ist damit \"transient localization\" gemeint?\n",
    "    \n",
    "- [8]: Passt."
   ]
  },
  {
   "cell_type": "markdown",
   "metadata": {},
   "source": [
    "6) \"In this accumulation region carrier densities often exceed densities of $10^{12} \\text{cm}^{2}\\text{Vs}$ [9],[10].\"\n",
    "    \n",
    "Sollte die Einheit nicht $\\frac{1}{\\text{cm}^{2}}$ sein?\n",
    "    \n",
    "- [9]: Hier wird keine Angabe zur Dichte gemacht.\n",
    "    \n",
    "- [10]: Hier überschreitet keine Dichte $10^{12}$. Alle sind ca. $10^{11}$"
   ]
  },
  {
   "cell_type": "markdown",
   "metadata": {},
   "source": [
    "7) \"For Poisson’s equation, the potential $\\phi_{q,1}$ at lattice point q is expressed by a seven-point stencil [11],[12]:\"\n",
    "\n",
    "- [11]: Passt.\n",
    "- [12]: Passt. Gleichung (4) hat ein zusätzliches h im Zähler verglichen mit derselben Gleichung von Klapper.\n"
   ]
  },
  {
   "cell_type": "markdown",
   "metadata": {},
   "source": [
    "8) \"Suitable approximations for $F_{1/2}$ are discussed in Ref. [13].\"\n",
    "\n",
    "- [13]: Passt."
   ]
  },
  {
   "cell_type": "markdown",
   "metadata": {},
   "source": [
    "9) \"Thus, excessive memory requirements and computation times can be avoided by using list-of-list schemes for successive overrelaxation routines [14].\"\n",
    "\n",
    "- [14]: Passt."
   ]
  },
  {
   "cell_type": "markdown",
   "metadata": {},
   "source": [
    "10) \"Measurements of the high frequency conductivity support this understanding for molecular semiconductors such as pentacene and C$_{12}$-BTBT-C$_{12}$ [15] ,[16].\"\n",
    "\n",
    "- [15]: Passt.\n",
    "- [16]: Passt."
   ]
  },
  {
   "cell_type": "markdown",
   "metadata": {},
   "source": [
    "11) \"The band gap of the semiconductor is set to $E_g = 3\\,$eV and the the eﬀective mass of the holes to $m^{∗} = m_e$, which is close to values found for pentacene [15],[17].\"\n",
    "\n",
    "- [15]: Passt.\n",
    "- [17]: Passt.\n",
    "\n",
    "Braucht es auch eine Quelle zu $E_g = 3\\,$eV? In Endres2004 und Dewijs2003 wird jeweils von $E_g\\approx1\\,$eV gesprochen."
   ]
  },
  {
   "cell_type": "markdown",
   "metadata": {},
   "source": [
    "12) \"The unit cells of the simulated lattice grid have a volume of $3A×3A×16A$ and reﬂect intermolecular spacings as for instance in pentacene [18].\"\n",
    "\n",
    "- [18]: In Endres2004 benutzen sie eine trikline Einheitszelle mit einem Volumen von ca. $8A×6A×16A$. In Giri2011 wird von einer $\\pi-\\pi$ stacking distance von $\\approx3\\,A$ von TIPS-Pentacene gesprochen.\n",
    "\n"
   ]
  },
  {
   "cell_type": "markdown",
   "metadata": {},
   "source": [
    "## 2. PACS numbers"
   ]
  },
  {
   "cell_type": "markdown",
   "metadata": {},
   "source": [
    "Current state of PACS numbers:\n",
    "- \"APS is working on a new classification scheme for physics, PhySH - Physics Subject Headings, that will replace PACS. We will soon transition to PhySH, at which time authors will no longer have to provide PACS.\"\n",
    "- \"The decision was made to discontinue PACS, owing to the administrative complexity of the revision process and its future viability in light of changing technological and research trends. However, PACS is still in use by scientific journals.\"\n",
    "\n",
    "Sollen wir uns auch mit PhySH auseinandersetzen?"
   ]
  },
  {
   "cell_type": "markdown",
   "metadata": {},
   "source": [
    "Links to PACS indexes:\n",
    "- http://cpb.iphy.ac.cn/UserFiles/File/PACS2010Regular-Edition(1).pdf\n",
    "- https://ufn.ru/en/pacs/\n",
    "- https://publishing.aip.org/wp-content/uploads/2019/01/PACS_2010_Alpha.pdf"
   ]
  },
  {
   "cell_type": "markdown",
   "metadata": {},
   "source": [
    "Liste von möglichen PACS-Nummern:\n",
    "- 72.80.Le: Polymers; organic compounds (including organic semiconductors)\n",
    "- 61.82.Fk: Semiconductors\n",
    "- 68.47.Fg: Semiconductor surfaces\n",
    "- 72.20.−i: Conductivity phenomena in semiconductors and insulators\n",
    "- 77.22.Ch: Permittivity\n",
    "- 02.60.Cb: Numerical simulation; solution of equations\n",
    "- 31.15.−p: Calculations and mathematical techniques in atomic and molecular physics\n",
    "- 31.70.Ks: Molecular solids\n",
    "- 72.10.Fk: Scattering by point defects, dislocations, surfaces, and other imperfections (including Kondo effect)\n",
    "- 73.40.Qv: Metal-insulator-semiconductor structures (including semiconductor-to-insulator)\n",
    "- 85.65.+h: Molecular electronic devices\n",
    "- 73.40.−c: Electronic transport in interface structures\n",
    "- 61.72.Ji: Point defects (vacancies, interstitials, color centers, etc.) and defect clusters"
   ]
  },
  {
   "cell_type": "markdown",
   "metadata": {},
   "source": [
    "# 3. Formeln"
   ]
  },
  {
   "cell_type": "markdown",
   "metadata": {},
   "source": [
    "Formeln in der Dokumentation:\n",
    "- $E_{int} = \\frac{E_{ext}}{\\tilde{\\epsilon}(\\omega)}$ (45): Ich verstehe diese Gleichung nicht, da solche Gleichungen normal die Struktur $D = \\epsilon{E}$ haben."
   ]
  },
  {
   "cell_type": "markdown",
   "metadata": {},
   "source": [
    "Formeln in der Publikation:\n",
    "- (1): Verwirrt mich, da die Gleichungen in Klapper vs. Nicholls anders sind. Nicholls hat ein zusätzliches h. Muss ich nochmal anschauen.\n",
    "- (2): Muss ich noch anschauen.\n",
    "- (3): Passt."
   ]
  }
 ],
 "metadata": {
  "kernelspec": {
   "display_name": "Python 3",
   "language": "python",
   "name": "python3"
  },
  "language_info": {
   "codemirror_mode": {
    "name": "ipython",
    "version": 3
   },
   "file_extension": ".py",
   "mimetype": "text/x-python",
   "name": "python",
   "nbconvert_exporter": "python",
   "pygments_lexer": "ipython3",
   "version": "3.7.7"
  }
 },
 "nbformat": 4,
 "nbformat_minor": 4
}
